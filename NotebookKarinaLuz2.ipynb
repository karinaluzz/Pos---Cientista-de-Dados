{
    "cells": [
        {
            "cell_type": "code",
            "execution_count": 1,
            "metadata": {},
            "outputs": [
                {
                    "name": "stdout",
                    "output_type": "stream",
                    "text": "Waiting for a Spark session to start...\nSpark Initialization Done! ApplicationId = app-20210607020948-0000\nKERNEL_ID = 0a33f5ae-fb40-4ff2-b866-48375f95ad9c\n"
                },
                {
                    "data": {
                        "text/plain": "[Row(CO_ANO='2012', CO_IES='4', NO_IES='UNIVERSIDADE FEDERAL DO AMAZONAS', ORG='1', NOMEORG='Universidade', COREDE='1', rede='Publica', CO_DEP='1', DEPADM='Federal', dep5='1', REGIES='1', REGIAOIES='Norte', COUFIES='13', NOMEUFIES='Amazonas', MUNICIPIOIES='MANAUS', COMUNICIES12='1,30301E+11', LOCALIES='Capital', CO_CURSO='84555', NO_CURSO='BIOTECNOLOGIA', REG='1', NO_REGIAO='Norte', COUF='13', NO_UF='Amazonas', COMUNICIPIO12='1,30301E+11', municipio='MANAUS', LOCAL='Capital', AREAGERAL='4', NOAREAGERAL='Ciencias, matematica e computacao', AREAESPECIFICA='44', NOAREAESPECIFICA='Ciencias fisicas', AREADETALHADA='442', NOAREADETALHADA='Quimica', CO_OCDE='442Q09', NO_OCDE='Quimica de biotecnologia', CLASSE='Quimica', GRAU_ACADEMICO='Nao Aplicavel', NO_NIVEL='Sequencial de Formacao Espec\ufffdfica Presencial', NCURSO='1', MATT='20', CONCLT='0', VAGT='0', INSCRT='0', INGR='0', INGRPS='0', INGROF='0', MATTRANC='0', MATDESVINCULADA='1', MATTRANSFERIDO='0', MATFALECIDO='0'),\n Row(CO_ANO='2012', CO_IES='13', NO_IES='UNIVERSIDADE DE CAXIAS DO SUL', ORG='1', NOMEORG='Universidade', COREDE='2', rede='Privada', CO_DEP='4', DEPADM='Privada', dep5='5', REGIES='4', REGIAOIES='Sul', COUFIES='43', NOMEUFIES='Rio Grande do Sul', MUNICIPIOIES='CAXIAS DO SUL', COMUNICIES12='4,30202E+11', LOCALIES='Interior', CO_CURSO='41669', NO_CURSO='GESTAO DE MICRO E PEQUENAS EMPRESAS', REG='4', NO_REGIAO='Sul', COUF='43', NO_UF='Rio Grande do Sul', COMUNICIPIO12='4,30202E+11', municipio='CAXIAS DO SUL', LOCAL='Interior', AREAGERAL='3', NOAREAGERAL='Ciencias sociais, negocios e direito', AREAESPECIFICA='34', NOAREAESPECIFICA='Comercio e administracao', AREADETALHADA='345', NOAREADETALHADA='Gerenciamento e administracao', CO_OCDE='345A23', NO_OCDE='Administracao em micro e pequenas empresas', CLASSE='Administracao', GRAU_ACADEMICO='Nao Aplicavel', NO_NIVEL='Sequencial de Formacao Espec\ufffdfica Presencial', NCURSO='1', MATT='49', CONCLT='16', VAGT='0', INSCRT='0', INGR='0', INGRPS='0', INGROF='0', MATTRANC='108', MATDESVINCULADA='36', MATTRANSFERIDO='26', MATFALECIDO='0'),\n Row(CO_ANO='2012', CO_IES='13', NO_IES='UNIVERSIDADE DE CAXIAS DO SUL', ORG='1', NOMEORG='Universidade', COREDE='2', rede='Privada', CO_DEP='4', DEPADM='Privada', dep5='5', REGIES='4', REGIAOIES='Sul', COUFIES='43', NOMEUFIES='Rio Grande do Sul', MUNICIPIOIES='CAXIAS DO SUL', COMUNICIES12='4,30202E+11', LOCALIES='Interior', CO_CURSO='50890', NO_CURSO='GESTAO IMOBILIARIA', REG='4', NO_REGIAO='Sul', COUF='43', NO_UF='Rio Grande do Sul', COMUNICIPIO12='4,30202E+11', municipio='CAXIAS DO SUL', LOCAL='Interior', AREAGERAL='3', NOAREAGERAL='Ciencias sociais, negocios e direito', AREAESPECIFICA='34', NOAREAESPECIFICA='Comercio e administracao', AREADETALHADA='345', NOAREADETALHADA='Gerenciamento e administracao', CO_OCDE='345G22', NO_OCDE='Gestao de imoveis', CLASSE='Administracao', GRAU_ACADEMICO='Nao Aplicavel', NO_NIVEL='Sequencial de Formacao Espec\ufffdfica Presencial', NCURSO='1', MATT='0', CONCLT='0', VAGT='0', INSCRT='0', INGR='0', INGRPS='0', INGROF='0', MATTRANC='0', MATDESVINCULADA='1', MATTRANSFERIDO='0', MATFALECIDO='0'),\n Row(CO_ANO='2012', CO_IES='13', NO_IES='UNIVERSIDADE DE CAXIAS DO SUL', ORG='1', NOMEORG='Universidade', COREDE='2', rede='Privada', CO_DEP='4', DEPADM='Privada', dep5='5', REGIES='4', REGIAOIES='Sul', COUFIES='43', NOMEUFIES='Rio Grande do Sul', MUNICIPIOIES='CAXIAS DO SUL', COMUNICIES12='4,30202E+11', LOCALIES='Interior', CO_CURSO='57764', NO_CURSO='FOTOGRAFIA', REG='4', NO_REGIAO='Sul', COUF='43', NO_UF='Rio Grande do Sul', COMUNICIPIO12='4,30202E+11', municipio='CAXIAS DO SUL', LOCAL='Interior', AREAGERAL='2', NOAREAGERAL='Humanidades e artes', AREAESPECIFICA='21', NOAREAESPECIFICA='Artes', AREADETALHADA='213', NOAREADETALHADA='Tecnicas audiovisuais e producao de midia', CO_OCDE='213F01', NO_OCDE='Fotografia', CLASSE='Tecnicas audiovisuais e producao de midia', GRAU_ACADEMICO='Nao Aplicavel', NO_NIVEL='Sequencial de Formacao Espec\ufffdfica Presencial', NCURSO='1', MATT='15', CONCLT='5', VAGT='0', INSCRT='0', INGR='0', INGRPS='0', INGROF='0', MATTRANC='38', MATDESVINCULADA='12', MATTRANSFERIDO='10', MATFALECIDO='0'),\n Row(CO_ANO='2012', CO_IES='13', NO_IES='UNIVERSIDADE DE CAXIAS DO SUL', ORG='1', NOMEORG='Universidade', COREDE='2', rede='Privada', CO_DEP='4', DEPADM='Privada', dep5='5', REGIES='4', REGIAOIES='Sul', COUFIES='43', NOMEUFIES='Rio Grande do Sul', MUNICIPIOIES='CAXIAS DO SUL', COMUNICIES12='4,30202E+11', LOCALIES='Interior', CO_CURSO='72826', NO_CURSO='GESTAO DE FINANCAS', REG='4', NO_REGIAO='Sul', COUF='43', NO_UF='Rio Grande do Sul', COMUNICIPIO12='4,30202E+11', municipio='CAXIAS DO SUL', LOCAL='Interior', AREAGERAL='3', NOAREAGERAL='Ciencias sociais, negocios e direito', AREAESPECIFICA='34', NOAREAESPECIFICA='Comercio e administracao', AREADETALHADA='345', NOAREADETALHADA='Gerenciamento e administracao', CO_OCDE='345G17', NO_OCDE='Gestao financeira', CLASSE='Administracao', GRAU_ACADEMICO='Nao Aplicavel', NO_NIVEL='Sequencial de Formacao Espec\ufffdfica Presencial', NCURSO='1', MATT='1', CONCLT='1', VAGT='0', INSCRT='0', INGR='0', INGRPS='0', INGROF='0', MATTRANC='2', MATDESVINCULADA='2', MATTRANSFERIDO='0', MATFALECIDO='0')]"
                    },
                    "execution_count": 1,
                    "metadata": {},
                    "output_type": "execute_result"
                }
            ],
            "source": "# The code was removed by Watson Studio for sharing."
        },
        {
            "cell_type": "code",
            "execution_count": 2,
            "metadata": {},
            "outputs": [
                {
                    "name": "stdout",
                    "output_type": "stream",
                    "text": "+--------------------------------+\n|NO_IES                          |\n+--------------------------------+\n|UNIVERSIDADE FEDERAL DO AMAZONAS|\n|UNIVERSIDADE DE CAXIAS DO SUL   |\n+--------------------------------+\nonly showing top 2 rows\n\n"
                }
            ],
            "source": "df_data_1.select(\"NO_IES\").show(2,False)"
        },
        {
            "cell_type": "code",
            "execution_count": null,
            "metadata": {},
            "outputs": [],
            "source": ""
        }
    ],
    "metadata": {
        "kernelspec": {
            "display_name": "Python 3.7 with Spark",
            "language": "python3",
            "name": "python37"
        },
        "language_info": {
            "codemirror_mode": {
                "name": "ipython",
                "version": 3
            },
            "file_extension": ".py",
            "mimetype": "text/x-python",
            "name": "python",
            "nbconvert_exporter": "python",
            "pygments_lexer": "ipython3",
            "version": "3.7.10"
        }
    },
    "nbformat": 4,
    "nbformat_minor": 1
}